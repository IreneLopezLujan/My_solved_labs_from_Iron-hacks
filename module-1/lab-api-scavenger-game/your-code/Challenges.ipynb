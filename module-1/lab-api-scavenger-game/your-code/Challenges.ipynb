{
 "cells": [
  {
   "cell_type": "code",
   "execution_count": null,
   "metadata": {},
   "outputs": [],
   "source": [
    "#CHALLENGE 1 "
   ]
  },
  {
   "cell_type": "code",
   "execution_count": 31,
   "metadata": {},
   "outputs": [
    {
     "name": "stdout",
     "output_type": "stream",
     "text": [
      "<Response [200]>\n"
     ]
    },
    {
     "data": {
      "text/plain": [
       "{'login': 'IreneLopezLujan',\n",
       " 'id': 65113163,\n",
       " 'node_id': 'MDQ6VXNlcjY1MTEzMTYz',\n",
       " 'avatar_url': 'https://avatars1.githubusercontent.com/u/65113163?v=4',\n",
       " 'gravatar_id': '',\n",
       " 'url': 'https://api.github.com/users/IreneLopezLujan',\n",
       " 'html_url': 'https://github.com/IreneLopezLujan',\n",
       " 'followers_url': 'https://api.github.com/users/IreneLopezLujan/followers',\n",
       " 'following_url': 'https://api.github.com/users/IreneLopezLujan/following{/other_user}',\n",
       " 'gists_url': 'https://api.github.com/users/IreneLopezLujan/gists{/gist_id}',\n",
       " 'starred_url': 'https://api.github.com/users/IreneLopezLujan/starred{/owner}{/repo}',\n",
       " 'subscriptions_url': 'https://api.github.com/users/IreneLopezLujan/subscriptions',\n",
       " 'organizations_url': 'https://api.github.com/users/IreneLopezLujan/orgs',\n",
       " 'repos_url': 'https://api.github.com/users/IreneLopezLujan/repos',\n",
       " 'events_url': 'https://api.github.com/users/IreneLopezLujan/events{/privacy}',\n",
       " 'received_events_url': 'https://api.github.com/users/IreneLopezLujan/received_events',\n",
       " 'type': 'User',\n",
       " 'site_admin': False,\n",
       " 'name': None,\n",
       " 'company': None,\n",
       " 'blog': '',\n",
       " 'location': None,\n",
       " 'email': None,\n",
       " 'hireable': None,\n",
       " 'bio': None,\n",
       " 'twitter_username': None,\n",
       " 'public_repos': 32,\n",
       " 'public_gists': 0,\n",
       " 'followers': 2,\n",
       " 'following': 3,\n",
       " 'created_at': '2020-05-10T10:19:20Z',\n",
       " 'updated_at': '2020-09-09T06:31:45Z'}"
      ]
     },
     "execution_count": 31,
     "metadata": {},
     "output_type": "execute_result"
    }
   ],
   "source": [
    "\n",
    "import os\n",
    "import json\n",
    "from dotenv import load_dotenv\n",
    "load_dotenv()\n",
    "import requests\n",
    "import re\n",
    "import base64\n",
    "\n",
    "def getFromGithub(endpoint, queryParams={}):\n",
    "    url = f\"https://api.github.com{endpoint}\"\n",
    "\n",
    "    apiKey = os.getenv(\"APIKEY\")\n",
    "    if not apiKey:\n",
    "        raise ValueError(\"Please setup the GITHUB_APIKEY env variable\")\n",
    "    headers = {\n",
    "        \"Authorization\": f\"token {apiKey}\"\n",
    "    }\n",
    "    \n",
    "    res = requests.get(url, headers=headers, params=queryParams)\n",
    "    print(res.url)\n",
    "    return res.json()\n",
    "\n",
    "url=\"https://api.github.com/users/IreneLopezLujan\"\n",
    "res=requests.get(url)\n",
    "print(res)\n",
    "data=res.json()\n",
    "data"
   ]
  },
  {
   "cell_type": "code",
   "execution_count": 23,
   "metadata": {},
   "outputs": [
    {
     "name": "stdout",
     "output_type": "stream",
     "text": [
      "https://api.github.com/repos/ironhack-datalabs/datamad0820/forks\n"
     ]
    }
   ],
   "source": [
    "forks= getFromGithub(\"/repos/ironhack-datalabs/datamad0820/forks\")"
   ]
  },
  {
   "cell_type": "code",
   "execution_count": 24,
   "metadata": {},
   "outputs": [
    {
     "name": "stdout",
     "output_type": "stream",
     "text": [
      "https://api.github.com/repos/ironhack-datalabs/datamad0820/languages\n"
     ]
    },
    {
     "data": {
      "text/plain": [
       "{'Jupyter Notebook': 1337725, 'HTML': 498316, 'Python': 30427}"
      ]
     },
     "execution_count": 24,
     "metadata": {},
     "output_type": "execute_result"
    }
   ],
   "source": [
    "languages= getFromGithub(\"/repos/ironhack-datalabs/datamad0820/languages\")\n",
    "languages"
   ]
  },
  {
   "cell_type": "code",
   "execution_count": 25,
   "metadata": {},
   "outputs": [
    {
     "data": {
      "text/plain": [
       "['Jupyter Notebook', 'HTML', 'Python']"
      ]
     },
     "execution_count": 25,
     "metadata": {},
     "output_type": "execute_result"
    }
   ],
   "source": [
    "[ x for x, y in languages.items()]"
   ]
  },
  {
   "cell_type": "code",
   "execution_count": 26,
   "metadata": {},
   "outputs": [],
   "source": [
    "#CHALLENGE 2"
   ]
  },
  {
   "cell_type": "code",
   "execution_count": 27,
   "metadata": {},
   "outputs": [
    {
     "name": "stdout",
     "output_type": "stream",
     "text": [
      "https://api.github.com/repos/ironhack-datalabs/datamad0820/commits\n"
     ]
    }
   ],
   "source": [
    "\n",
    "Commits= getFromGithub(\"/repos/ironhack-datalabs/datamad0820/commits\")"
   ]
  },
  {
   "cell_type": "code",
   "execution_count": 28,
   "metadata": {},
   "outputs": [
    {
     "data": {
      "text/plain": [
       "4"
      ]
     },
     "execution_count": 28,
     "metadata": {},
     "output_type": "execute_result"
    }
   ],
   "source": [
    "len(Commits)"
   ]
  },
  {
   "cell_type": "code",
   "execution_count": null,
   "metadata": {},
   "outputs": [],
   "source": [
    "#CHALLENGE 3"
   ]
  },
  {
   "cell_type": "code",
   "execution_count": 29,
   "metadata": {},
   "outputs": [
    {
     "name": "stdout",
     "output_type": "stream",
     "text": [
      "https://api.github.com/repos/ironhack-datalabs/scavenger/contents\n"
     ]
    }
   ],
   "source": [
    "repo=getFromGithub(\"/repos/ironhack-datalabs/scavenger/contents\")\n",
    "repo\n",
    "lol=[x[\"name\"] for x in repo if x[\"name\"]!='.gitignore']"
   ]
  },
  {
   "cell_type": "code",
   "execution_count": 32,
   "metadata": {},
   "outputs": [
    {
     "name": "stdout",
     "output_type": "stream",
     "text": [
      "https://api.github.com/repos/ironhack-datalabs/scavenger/contents/15024\n",
      "https://api.github.com/repos/ironhack-datalabs/scavenger/contents/15534\n",
      "https://api.github.com/repos/ironhack-datalabs/scavenger/contents/17020\n",
      "https://api.github.com/repos/ironhack-datalabs/scavenger/contents/30351\n",
      "https://api.github.com/repos/ironhack-datalabs/scavenger/contents/40303\n",
      "https://api.github.com/repos/ironhack-datalabs/scavenger/contents/44639\n",
      "https://api.github.com/repos/ironhack-datalabs/scavenger/contents/45525\n",
      "https://api.github.com/repos/ironhack-datalabs/scavenger/contents/47222\n",
      "https://api.github.com/repos/ironhack-datalabs/scavenger/contents/47830\n",
      "https://api.github.com/repos/ironhack-datalabs/scavenger/contents/49418\n",
      "https://api.github.com/repos/ironhack-datalabs/scavenger/contents/50896\n",
      "https://api.github.com/repos/ironhack-datalabs/scavenger/contents/55417\n",
      "https://api.github.com/repos/ironhack-datalabs/scavenger/contents/55685\n",
      "https://api.github.com/repos/ironhack-datalabs/scavenger/contents/60224\n",
      "https://api.github.com/repos/ironhack-datalabs/scavenger/contents/64880\n",
      "https://api.github.com/repos/ironhack-datalabs/scavenger/contents/66032\n",
      "https://api.github.com/repos/ironhack-datalabs/scavenger/contents/68848\n",
      "https://api.github.com/repos/ironhack-datalabs/scavenger/contents/70751\n",
      "https://api.github.com/repos/ironhack-datalabs/scavenger/contents/70985\n",
      "https://api.github.com/repos/ironhack-datalabs/scavenger/contents/88596\n",
      "https://api.github.com/repos/ironhack-datalabs/scavenger/contents/89046\n",
      "https://api.github.com/repos/ironhack-datalabs/scavenger/contents/89338\n",
      "https://api.github.com/repos/ironhack-datalabs/scavenger/contents/91701\n",
      "https://api.github.com/repos/ironhack-datalabs/scavenger/contents/97881\n",
      "https://api.github.com/repos/ironhack-datalabs/scavenger/contents/98750\n"
     ]
    }
   ],
   "source": [
    "archivos=[]\n",
    "for x in lol:\n",
    "    repo=getFromGithub(f\"/repos/ironhack-datalabs/scavenger/contents/{x}\")\n",
    "    for x in repo:\n",
    "        if re.search('.scavengerhunt',x[\"name\"]):\n",
    "            archivos.append(x)"
   ]
  },
  {
   "cell_type": "code",
   "execution_count": 33,
   "metadata": {},
   "outputs": [
    {
     "name": "stdout",
     "output_type": "stream",
     "text": [
      "https://api.github.com/repos/ironhack-datalabs/scavenger/git/blobs/2add7632f1323136324efbf38ec66db1838b6173\n",
      "https://api.github.com/repos/ironhack-datalabs/scavenger/git/blobs/1269488f7fb1f4b56a8c0e5eb48cecbfadfa9219\n",
      "https://api.github.com/repos/ironhack-datalabs/scavenger/git/blobs/ba524d7abc4b3a0c0995eb85c9eef470e9e7172f\n",
      "https://api.github.com/repos/ironhack-datalabs/scavenger/git/blobs/d15a2cc44e31b14c65264271b81072e5ba0e1634\n",
      "https://api.github.com/repos/ironhack-datalabs/scavenger/git/blobs/3aaf448b40f878cf3067e2323616143bdde600de\n",
      "https://api.github.com/repos/ironhack-datalabs/scavenger/git/blobs/1c9064284a24b3486015eafdb391b141c27ada2b\n",
      "https://api.github.com/repos/ironhack-datalabs/scavenger/git/blobs/6abb415e0ae3450be0f323113bcca2af195ebbff\n",
      "https://api.github.com/repos/ironhack-datalabs/scavenger/git/blobs/e351fb73264581ce26504b97ef07daea35116f32\n",
      "https://api.github.com/repos/ironhack-datalabs/scavenger/git/blobs/f5cb13223fdc1b11f4cfbbe1694f533b3c579fa0\n",
      "https://api.github.com/repos/ironhack-datalabs/scavenger/git/blobs/c1187c4badc9be6990570cef850fc87dcf3523b0\n",
      "https://api.github.com/repos/ironhack-datalabs/scavenger/git/blobs/1a00a70b240d8947af0aaa04f1a93a52c72f7420\n",
      "https://api.github.com/repos/ironhack-datalabs/scavenger/git/blobs/209e3ef4b6247ce746048d5711befda46206d235\n",
      "https://api.github.com/repos/ironhack-datalabs/scavenger/git/blobs/3aaf448b40f878cf3067e2323616143bdde600de\n",
      "https://api.github.com/repos/ironhack-datalabs/scavenger/git/blobs/1c9064284a24b3486015eafdb391b141c27ada2b\n",
      "https://api.github.com/repos/ironhack-datalabs/scavenger/git/blobs/6abb415e0ae3450be0f323113bcca2af195ebbff\n",
      "https://api.github.com/repos/ironhack-datalabs/scavenger/git/blobs/f5cb13223fdc1b11f4cfbbe1694f533b3c579fa0\n",
      "https://api.github.com/repos/ironhack-datalabs/scavenger/git/blobs/e351fb73264581ce26504b97ef07daea35116f32\n",
      "https://api.github.com/repos/ironhack-datalabs/scavenger/git/blobs/397b22b2dc371e8db59ed327f0b75321e4c0d0f2\n",
      "https://api.github.com/repos/ironhack-datalabs/scavenger/git/blobs/09e16f36b3c4993ba924b1074629283a49869be9\n",
      "https://api.github.com/repos/ironhack-datalabs/scavenger/git/blobs/41d25f51c301c5eee3737998b0d86573e4e91b90\n",
      "https://api.github.com/repos/ironhack-datalabs/scavenger/git/blobs/fb828e4a926b0a84fc16111fc0ee3eeec41f0ce7\n",
      "https://api.github.com/repos/ironhack-datalabs/scavenger/git/blobs/bf3efa02f721c40c03a613824e345243a35f6812\n",
      "https://api.github.com/repos/ironhack-datalabs/scavenger/git/blobs/04d0ffb8d895a9e3ee244493e829a24468bd1f60\n",
      "https://api.github.com/repos/ironhack-datalabs/scavenger/git/blobs/47eb4306e5fec9e051dacabc7039348109784b94\n"
     ]
    },
    {
     "data": {
      "text/plain": [
       "[b'In\\n',\n",
       " b'data\\n',\n",
       " b'science,\\n',\n",
       " b'80\\n',\n",
       " b'percent\\n',\n",
       " b'of\\n',\n",
       " b'time\\n',\n",
       " b'spent\\n',\n",
       " b'is\\n',\n",
       " b'preparing\\n',\n",
       " b'data,\\n',\n",
       " b'20\\n',\n",
       " b'percent\\n',\n",
       " b'of\\n',\n",
       " b'time\\n',\n",
       " b'is\\n',\n",
       " b'spent\\n',\n",
       " b'complaining\\n',\n",
       " b'about\\n',\n",
       " b'the\\n',\n",
       " b'need\\n',\n",
       " b'to\\n',\n",
       " b'prepare\\n',\n",
       " b'data.\\n']"
      ]
     },
     "execution_count": 33,
     "metadata": {},
     "output_type": "execute_result"
    }
   ],
   "source": [
    "archivos.sort(key=lambda x: x[\"name\"])\n",
    "mensaje=[]\n",
    "for cada in archivos:\n",
    "    d=cada[\"git_url\"].split(\"/\")\n",
    "    repo=getFromGithub(f\"/repos/ironhack-datalabs/scavenger/git/blobs/{d[8]}\")\n",
    "    mensaje.append(base64.b64decode(repo[\"content\"]))\n",
    "mensaje"
   ]
  },
  {
   "cell_type": "code",
   "execution_count": 35,
   "metadata": {},
   "outputs": [],
   "source": [
    "meme=\"\"\n",
    "for x in mensaje:\n",
    "    rea = str(x).replace(\"\\n\", \"\").replace(\"b'\", \"\")\n",
    "    meme+=rea"
   ]
  },
  {
   "cell_type": "code",
   "execution_count": 36,
   "metadata": {},
   "outputs": [
    {
     "data": {
      "text/plain": [
       "'In data science, 80 percent of time spent is preparing data, 20 percent of time is spent complaining about the need to prepare data. '"
      ]
     },
     "execution_count": 36,
     "metadata": {},
     "output_type": "execute_result"
    }
   ],
   "source": [
    "meme.replace(\"\\\\n'\",\" \")"
   ]
  },
  {
   "cell_type": "code",
   "execution_count": null,
   "metadata": {},
   "outputs": [],
   "source": [
    "#BONUS"
   ]
  }
 ],
 "metadata": {
  "kernelspec": {
   "display_name": "Python 3",
   "language": "python",
   "name": "python3"
  },
  "language_info": {
   "codemirror_mode": {
    "name": "ipython",
    "version": 3
   },
   "file_extension": ".py",
   "mimetype": "text/x-python",
   "name": "python",
   "nbconvert_exporter": "python",
   "pygments_lexer": "ipython3",
   "version": "3.6.9"
  }
 },
 "nbformat": 4,
 "nbformat_minor": 4
}
