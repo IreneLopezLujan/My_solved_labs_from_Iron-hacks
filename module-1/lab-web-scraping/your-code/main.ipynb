{
 "cells": [
  {
   "cell_type": "markdown",
   "metadata": {},
   "source": [
    "# Web Scraping Lab\n",
    "\n",
    "You will find in this notebook some scrapy exercises to practise your scraping skills.\n",
    "\n",
    "**Tips:**\n",
    "\n",
    "- Check the response status code for each request to ensure you have obtained the intended contennt.\n",
    "- Print the response text in each request to understand the kind of info you are getting and its format.\n",
    "- Check for patterns in the response text to extract the data/info requested in each question.\n",
    "- Visit each url and take a look at its source through Chrome DevTools. You'll need to identify the html tags, special class names etc. used for the html content you are expected to extract."
   ]
  },
  {
   "cell_type": "markdown",
   "metadata": {},
   "source": [
    "- [Requests library](http://docs.python-requests.org/en/master/#the-user-guide) documentation \n",
    "- [Beautiful Soup Doc](https://www.crummy.com/software/BeautifulSoup/bs4/doc/)\n",
    "- [Urllib](https://docs.python.org/3/library/urllib.html#module-urllib)\n",
    "- [re lib](https://docs.python.org/3/library/re.html)\n",
    "- [lxml lib](https://lxml.de/)\n",
    "- [Scrapy](https://scrapy.org/)\n",
    "- [List of HTTP status codes](https://en.wikipedia.org/wiki/List_of_HTTP_status_codes)\n",
    "- [HTML basics](http://www.simplehtmlguide.com/cheatsheet.php)\n",
    "- [CSS basics](https://www.cssbasics.com/#page_start)"
   ]
  },
  {
   "cell_type": "markdown",
   "metadata": {},
   "source": [
    "#### Below are the libraries and modules you may need. `requests`,  `BeautifulSoup` and `pandas` are imported for you. If you prefer to use additional libraries feel free to uncomment them."
   ]
  },
  {
   "cell_type": "code",
   "execution_count": 8,
   "metadata": {},
   "outputs": [],
   "source": [
    "import requests\n",
    "from bs4 import BeautifulSoup\n",
    "import pandas as pd\n",
    "from pprint import pprint\n",
    "from lxml import html\n",
    "from lxml.html import fromstring\n",
    "import urllib.request\n",
    "from urllib.request import urlopen\n",
    "import random\n",
    "import re\n",
    "import scrapy"
   ]
  },
  {
   "cell_type": "markdown",
   "metadata": {},
   "source": [
    "#### Download, parse (using BeautifulSoup), and print the content from the Trending Developers page from GitHub:"
   ]
  },
  {
   "cell_type": "code",
   "execution_count": 9,
   "metadata": {},
   "outputs": [],
   "source": [
    "# This is the url you will scrape in this exercise\n",
    "url = 'https://github.com/trending/developers'"
   ]
  },
  {
   "cell_type": "code",
   "execution_count": 19,
   "metadata": {},
   "outputs": [
    {
     "data": {
      "text/plain": [
       "[]"
      ]
     },
     "execution_count": 19,
     "metadata": {},
     "output_type": "execute_result"
    }
   ],
   "source": [
    "#your code\n",
    "\n",
    "html = requests.get(url).text\n",
    "soup = BeautifulSoup(html)\n",
    "col6 = soup.select(\".col-md-6\")\n",
    "\n"
   ]
  },
  {
   "cell_type": "markdown",
   "metadata": {},
   "source": [
    "#### Display the names of the trending developers retrieved in the previous step.\n",
    "\n",
    "Your output should be a Python list of developer names. Each name should not contain any html tag.\n",
    "\n",
    "**Instructions:**\n",
    "\n",
    "1. Find out the html tag and class names used for the developer names. You can achieve this using Chrome DevTools.\n",
    "\n",
    "1. Use BeautifulSoup to extract all the html elements that contain the developer names.\n",
    "\n",
    "1. Use string manipulation techniques to replace whitespaces and linebreaks (i.e. `\\n`) in the *text* of each html element. Use a list to store the clean names.\n",
    "\n",
    "1. Print the list of names.\n",
    "\n",
    "Your output should look like below:\n",
    "\n",
    "```\n",
    "['trimstray (@trimstray)',\n",
    " 'joewalnes (JoeWalnes)',\n",
    " 'charlax (Charles-AxelDein)',\n",
    " 'ForrestKnight (ForrestKnight)',\n",
    " 'revery-ui (revery-ui)',\n",
    " 'alibaba (Alibaba)',\n",
    " 'Microsoft (Microsoft)',\n",
    " 'github (GitHub)',\n",
    " 'facebook (Facebook)',\n",
    " 'boazsegev (Bo)',\n",
    " 'google (Google)',\n",
    " 'cloudfetch',\n",
    " 'sindresorhus (SindreSorhus)',\n",
    " 'tensorflow',\n",
    " 'apache (TheApacheSoftwareFoundation)',\n",
    " 'DevonCrawford (DevonCrawford)',\n",
    " 'ARMmbed (ArmMbed)',\n",
    " 'vuejs (vuejs)',\n",
    " 'fastai (fast.ai)',\n",
    " 'QiShaoXuan (Qi)',\n",
    " 'joelparkerhenderson (JoelParkerHenderson)',\n",
    " 'torvalds (LinusTorvalds)',\n",
    " 'CyC2018',\n",
    " 'komeiji-satori (神楽坂覚々)',\n",
    " 'script-8']\n",
    " ```"
   ]
  },
  {
   "cell_type": "code",
   "execution_count": 22,
   "metadata": {},
   "outputs": [
    {
     "data": {
      "text/plain": [
       "['William Candillon',\n",
       " 'Han Xiao',\n",
       " 'Arvid Norberg',\n",
       " 'Franck Nijhof',\n",
       " 'Javier Suárez',\n",
       " 'Manfred Touron',\n",
       " 'Rob Norris',\n",
       " 'Chocobozzz',\n",
       " 'Ruslan Konviser',\n",
       " 'Eric Niebler',\n",
       " 'MinJae Kwon',\n",
       " 'Carlos Alexandro Becker',\n",
       " 'Taylor Otwell',\n",
       " 'Fred K. Schott',\n",
       " 'Igor Randjelovic',\n",
       " 'Tim Gross',\n",
       " 'Fons van der Plas',\n",
       " 'Rico Huijbers',\n",
       " 'Zoltan Kochan',\n",
       " 'Benoit Chesneau',\n",
       " 'Kazuho Oku',\n",
       " 'Matt Perry',\n",
       " 'Jake Archibald',\n",
       " 'Tom Moor',\n",
       " 'Daichi Furiya']"
      ]
     },
     "execution_count": 22,
     "metadata": {},
     "output_type": "execute_result"
    }
   ],
   "source": [
    "\n",
    "#your code\n",
    "#como cogeria un nombre,que esta en las etiquetas pares de col md 6\n",
    "name_developers=[ col6[x].select(\"a\")[0].text.strip() for x in range(0,len(col6),2)]\n",
    "name_developers"
   ]
  },
  {
   "cell_type": "code",
   "execution_count": 23,
   "metadata": {},
   "outputs": [
    {
     "name": "stdout",
     "output_type": "stream",
     "text": [
      "[('William Candillon', 'William Candillon'), ('Han Xiao', 'Han Xiao'), ('Arvid Norberg', 'Arvid Norberg'), ('Franck Nijhof', 'Franck Nijhof'), ('Javier Suárez', 'Javier Suárez'), ('Manfred Touron', 'Manfred Touron'), ('Rob Norris', 'Rob Norris'), ('Chocobozzz', 'Chocobozzz'), ('Ruslan Konviser', 'Ruslan Konviser'), ('Eric Niebler', 'Eric Niebler'), ('MinJae Kwon', 'MinJae Kwon'), ('Carlos Alexandro Becker', 'Carlos Alexandro Becker'), ('Taylor Otwell', 'Taylor Otwell'), ('Fred K. Schott', 'Fred K. Schott'), ('Igor Randjelovic', 'Igor Randjelovic'), ('Tim Gross', 'Tim Gross'), ('Fons van der Plas', 'Fons van der Plas'), ('Rico Huijbers', 'Rico Huijbers'), ('Zoltan Kochan', 'Zoltan Kochan'), ('Benoit Chesneau', 'Benoit Chesneau'), ('Kazuho Oku', 'Kazuho Oku'), ('Matt Perry', 'Matt Perry'), ('Jake Archibald', 'Jake Archibald'), ('Tom Moor', 'Tom Moor'), ('Daichi Furiya', 'Daichi Furiya')]\n"
     ]
    }
   ],
   "source": [
    "#aqui con su tag \n",
    "tag_developers = [tag.text.strip() for tag in soup.find_all('h1',class_='h3 lh-condensed')]\n",
    "print(list(zip(name_developers, tag_developers)))"
   ]
  },
  {
   "cell_type": "markdown",
   "metadata": {},
   "source": [
    "#### Display the trending Python repositories in GitHub\n",
    "\n",
    "The steps to solve this problem is similar to the previous one except that you need to find out the repository names instead of developer names."
   ]
  },
  {
   "cell_type": "code",
   "execution_count": null,
   "metadata": {},
   "outputs": [],
   "source": [
    "# This is the url you will scrape in this exercise\n",
    "url = 'https://github.com/trending/python?since=daily'"
   ]
  },
  {
   "cell_type": "code",
   "execution_count": 41,
   "metadata": {},
   "outputs": [
    {
     "name": "stdout",
     "output_type": "stream",
     "text": [
      "['William Candillon', 'Han Xiao', 'Arvid Norberg', 'Franck Nijhof', 'Javier Suárez', 'Manfred Touron', 'Rob Norris', 'Chocobozzz', 'Ruslan Konviser', 'Eric Niebler', 'MinJae Kwon', 'Carlos Alexandro Becker', 'Taylor Otwell', 'Fred K. Schott', 'Igor Randjelovic', 'Tim Gross', 'Fons van der Plas', 'Rico Huijbers', 'Zoltan Kochan', 'Benoit Chesneau', 'Kazuho Oku', 'Matt Perry', 'Jake Archibald', 'Tom Moor', 'Daichi Furiya']\n"
     ]
    }
   ],
   "source": [
    "repos_name = [' '.join(repo.text.split())  for repo in soup.find_all('h1',class_='h3 lh-condensed')]\n",
    "print(repos_name)"
   ]
  },
  {
   "cell_type": "code",
   "execution_count": 38,
   "metadata": {},
   "outputs": [
    {
     "name": "stdout",
     "output_type": "stream",
     "text": [
      "['William Candillon', 'Han Xiao', 'Arvid Norberg', 'Franck Nijhof', 'Javier Suárez', 'Manfred Touron', 'Rob Norris', 'Chocobozzz', 'Ruslan Konviser', 'Eric Niebler', 'MinJae Kwon', 'Carlos Alexandro Becker', 'Taylor Otwell', 'Fred K. Schott', 'Igor Randjelovic', 'Tim Gross', 'Fons van der Plas', 'Rico Huijbers', 'Zoltan Kochan', 'Benoit Chesneau', 'Kazuho Oku', 'Matt Perry', 'Jake Archibald', 'Tom Moor', 'Daichi Furiya']\n"
     ]
    }
   ],
   "source": [
    "res = requests.get(url)\n",
    "soup = BeautifulSoup(res.text)\n",
    "#your code\n",
    "repos_name = [' '.join(repo.text.split()) for repo in soup.find_all('h1',class_='h3 lh-condensed')]\n",
    "print(repos_name)"
   ]
  },
  {
   "cell_type": "markdown",
   "metadata": {},
   "source": [
    "#### Display all the image links from Walt Disney wikipedia page"
   ]
  },
  {
   "cell_type": "code",
   "execution_count": 43,
   "metadata": {},
   "outputs": [],
   "source": [
    "# This is the url you will scrape in this exercise\n",
    "url = 'https://en.wikipedia.org/wiki/Walt_Disney'"
   ]
  },
  {
   "cell_type": "code",
   "execution_count": 44,
   "metadata": {},
   "outputs": [],
   "source": [
    "#your code\n",
    "html=requests.get(url).text\n",
    "soup = BeautifulSoup(html)\n"
   ]
  },
  {
   "cell_type": "code",
   "execution_count": 57,
   "metadata": {},
   "outputs": [
    {
     "data": {
      "text/plain": [
       "['/wiki/File:Walt_Disney_1946.JPG',\n",
       " '/wiki/File:Walt_Disney_1942_signature.svg',\n",
       " '/wiki/File:Walt_Disney_envelope_ca._1921.jpg',\n",
       " '/wiki/File:Trolley_Troubles_poster.jpg',\n",
       " '/wiki/File:Walt_Disney_and_his_cartoon_creation_%22Mickey_Mouse%22_-_National_Board_of_Review_Magazine.jpg',\n",
       " '/wiki/File:Steamboat-willie.jpg',\n",
       " '/wiki/File:Walt_Disney_1935.jpg',\n",
       " '/wiki/File:Walt_Disney_Snow_white_1937_trailer_screenshot_(13).jpg',\n",
       " '/wiki/File:Disney_drawing_goofy.jpg',\n",
       " '/wiki/File:DisneySchiphol1951.jpg',\n",
       " '/wiki/File:WaltDisneyplansDisneylandDec1954.jpg',\n",
       " '/wiki/File:Walt_disney_portrait_right.jpg',\n",
       " '/wiki/File:Walt_Disney_Grave.JPG',\n",
       " '/wiki/File:Roy_O._Disney_with_Company_at_Press_Conference.jpg',\n",
       " '/wiki/File:Disney_Display_Case.JPG',\n",
       " '/wiki/File:Disney1968.jpg',\n",
       " '/wiki/File:The_Walt_Disney_Company_Logo.svg',\n",
       " '/wiki/File:Animation_disc.svg',\n",
       " '/wiki/File:P_vip.svg',\n",
       " '/wiki/File:Magic_Kingdom_castle.jpg',\n",
       " '/wiki/File:Video-x-generic.svg',\n",
       " '/wiki/File:Flag_of_Los_Angeles_County,_California.svg',\n",
       " '/wiki/File:Blank_television_set.svg',\n",
       " '/wiki/File:Flag_of_the_United_States.svg']"
      ]
     },
     "execution_count": 57,
     "metadata": {},
     "output_type": "execute_result"
    }
   ],
   "source": [
    "imagenes = [x['href'] for x in soup.find_all(class_='image')]\n",
    "imagenes"
   ]
  },
  {
   "cell_type": "markdown",
   "metadata": {},
   "source": [
    "#### Retrieve an arbitary Wikipedia page of \"Python\" and create a list of links on that page"
   ]
  },
  {
   "cell_type": "code",
   "execution_count": 58,
   "metadata": {},
   "outputs": [],
   "source": [
    "# This is the url you will scrape in this exercise\n",
    "url ='https://en.wikipedia.org/wiki/Python' "
   ]
  },
  {
   "cell_type": "code",
   "execution_count": 59,
   "metadata": {},
   "outputs": [
    {
     "data": {
      "text/plain": [
       "[None,\n",
       " '#mw-head',\n",
       " '#searchInput',\n",
       " 'https://en.wiktionary.org/wiki/Python',\n",
       " 'https://en.wiktionary.org/wiki/python',\n",
       " '#Snakes',\n",
       " '#Ancient_Greece',\n",
       " '#Media_and_entertainment',\n",
       " '#Computing',\n",
       " '#Engineering',\n",
       " '#Roller_coasters',\n",
       " '#Vehicles',\n",
       " '#Weaponry',\n",
       " '#People',\n",
       " '#Other_uses',\n",
       " '#See_also',\n",
       " '/w/index.php?title=Python&action=edit&section=1',\n",
       " '/wiki/Pythonidae',\n",
       " '/wiki/Python_(genus)',\n",
       " '/w/index.php?title=Python&action=edit&section=2',\n",
       " '/wiki/Python_(mythology)',\n",
       " '/wiki/Python_of_Aenus',\n",
       " '/wiki/Python_(painter)',\n",
       " '/wiki/Python_of_Byzantium',\n",
       " '/wiki/Python_of_Catana',\n",
       " '/w/index.php?title=Python&action=edit&section=3',\n",
       " '/wiki/Python_(film)',\n",
       " '/wiki/Pythons_2',\n",
       " '/wiki/Monty_Python',\n",
       " '/wiki/Python_(Monty)_Pictures',\n",
       " '/w/index.php?title=Python&action=edit&section=4',\n",
       " '/wiki/Python_(programming_language)',\n",
       " '/wiki/CPython',\n",
       " '/wiki/CMU_Common_Lisp',\n",
       " '/wiki/PERQ#PERQ_3',\n",
       " '/w/index.php?title=Python&action=edit&section=5',\n",
       " '/w/index.php?title=Python&action=edit&section=6',\n",
       " '/wiki/Python_(Busch_Gardens_Tampa_Bay)',\n",
       " '/wiki/Python_(Coney_Island,_Cincinnati,_Ohio)',\n",
       " '/wiki/Python_(Efteling)',\n",
       " '/w/index.php?title=Python&action=edit&section=7',\n",
       " '/wiki/Python_(automobile_maker)',\n",
       " '/wiki/Python_(Ford_prototype)',\n",
       " '/w/index.php?title=Python&action=edit&section=8',\n",
       " '/wiki/Colt_Python',\n",
       " '/wiki/Python_(missile)',\n",
       " '/wiki/Python_(nuclear_primary)',\n",
       " '/w/index.php?title=Python&action=edit&section=9',\n",
       " '/wiki/Python_Anghelo',\n",
       " '/w/index.php?title=Python&action=edit&section=10',\n",
       " '/wiki/PYTHON',\n",
       " '/w/index.php?title=Python&action=edit&section=11',\n",
       " '/wiki/Cython',\n",
       " '/wiki/Pyton',\n",
       " '/wiki/File:Disambig_gray.svg',\n",
       " '/wiki/Help:Disambiguation',\n",
       " 'https://en.wikipedia.org/w/index.php?title=Special:WhatLinksHere/Python&namespace=0',\n",
       " 'https://en.wikipedia.org/w/index.php?title=Python&oldid=976546332',\n",
       " '/wiki/Help:Category',\n",
       " '/wiki/Category:Disambiguation_pages',\n",
       " '/wiki/Category:Disambiguation_pages_with_short_descriptions',\n",
       " '/wiki/Category:Short_description_is_different_from_Wikidata',\n",
       " '/wiki/Category:All_article_disambiguation_pages',\n",
       " '/wiki/Category:All_disambiguation_pages',\n",
       " '/wiki/Category:Animal_common_name_disambiguation_pages',\n",
       " '/wiki/Special:MyTalk',\n",
       " '/wiki/Special:MyContributions',\n",
       " '/w/index.php?title=Special:CreateAccount&returnto=Python',\n",
       " '/w/index.php?title=Special:UserLogin&returnto=Python',\n",
       " '/wiki/Python',\n",
       " '/wiki/Talk:Python',\n",
       " '/wiki/Python',\n",
       " '/w/index.php?title=Python&action=edit',\n",
       " '/w/index.php?title=Python&action=history',\n",
       " '/wiki/Main_Page',\n",
       " '/wiki/Main_Page',\n",
       " '/wiki/Wikipedia:Contents',\n",
       " '/wiki/Portal:Current_events',\n",
       " '/wiki/Special:Random',\n",
       " '/wiki/Wikipedia:About',\n",
       " '//en.wikipedia.org/wiki/Wikipedia:Contact_us',\n",
       " 'https://donate.wikimedia.org/wiki/Special:FundraiserRedirector?utm_source=donate&utm_medium=sidebar&utm_campaign=C13_en.wikipedia.org&uselang=en',\n",
       " '//shop.wikimedia.org',\n",
       " '/wiki/Help:Contents',\n",
       " '/wiki/Wikipedia:Community_portal',\n",
       " '/wiki/Special:RecentChanges',\n",
       " '/wiki/Wikipedia:File_Upload_Wizard',\n",
       " '/wiki/Special:WhatLinksHere/Python',\n",
       " '/wiki/Special:RecentChangesLinked/Python',\n",
       " '/wiki/Wikipedia:File_Upload_Wizard',\n",
       " '/wiki/Special:SpecialPages',\n",
       " '/w/index.php?title=Python&oldid=976546332',\n",
       " '/w/index.php?title=Python&action=info',\n",
       " '/w/index.php?title=Special:CiteThisPage&page=Python&id=976546332&wpFormIdentifier=titleform',\n",
       " 'https://www.wikidata.org/wiki/Special:EntityPage/Q747452',\n",
       " '/w/index.php?title=Special:DownloadAsPdf&page=Python&action=show-download-screen',\n",
       " '/w/index.php?title=Python&printable=yes',\n",
       " 'https://commons.wikimedia.org/wiki/Category:Python',\n",
       " 'https://af.wikipedia.org/wiki/Python',\n",
       " 'https://als.wikipedia.org/wiki/Python',\n",
       " 'https://ar.wikipedia.org/wiki/%D8%A8%D8%A7%D9%8A%D8%AB%D9%88%D9%86',\n",
       " 'https://az.wikipedia.org/wiki/Python',\n",
       " 'https://bn.wikipedia.org/wiki/%E0%A6%AA%E0%A6%BE%E0%A6%87%E0%A6%A5%E0%A6%A8_(%E0%A6%A6%E0%A7%8D%E0%A6%AC%E0%A7%8D%E0%A6%AF%E0%A6%B0%E0%A7%8D%E0%A6%A5%E0%A6%A4%E0%A6%BE_%E0%A6%A8%E0%A6%BF%E0%A6%B0%E0%A6%B8%E0%A6%A8)',\n",
       " 'https://be.wikipedia.org/wiki/Python',\n",
       " 'https://bg.wikipedia.org/wiki/%D0%9F%D0%B8%D1%82%D0%BE%D0%BD_(%D0%BF%D0%BE%D1%8F%D1%81%D0%BD%D0%B5%D0%BD%D0%B8%D0%B5)',\n",
       " 'https://cs.wikipedia.org/wiki/Python_(rozcestn%C3%ADk)',\n",
       " 'https://da.wikipedia.org/wiki/Python',\n",
       " 'https://de.wikipedia.org/wiki/Python',\n",
       " 'https://eo.wikipedia.org/wiki/Pitono_(apartigilo)',\n",
       " 'https://eu.wikipedia.org/wiki/Python_(argipena)',\n",
       " 'https://fa.wikipedia.org/wiki/%D9%BE%D8%A7%DB%8C%D8%AA%D9%88%D9%86',\n",
       " 'https://fr.wikipedia.org/wiki/Python',\n",
       " 'https://ko.wikipedia.org/wiki/%ED%8C%8C%EC%9D%B4%EC%84%A0',\n",
       " 'https://hr.wikipedia.org/wiki/Python_(razdvojba)',\n",
       " 'https://io.wikipedia.org/wiki/Pitono',\n",
       " 'https://id.wikipedia.org/wiki/Python',\n",
       " 'https://ia.wikipedia.org/wiki/Python_(disambiguation)',\n",
       " 'https://is.wikipedia.org/wiki/Python_(a%C3%B0greining)',\n",
       " 'https://it.wikipedia.org/wiki/Python_(disambigua)',\n",
       " 'https://he.wikipedia.org/wiki/%D7%A4%D7%99%D7%AA%D7%95%D7%9F',\n",
       " 'https://ka.wikipedia.org/wiki/%E1%83%9E%E1%83%98%E1%83%97%E1%83%9D%E1%83%9C%E1%83%98_(%E1%83%9B%E1%83%A0%E1%83%90%E1%83%95%E1%83%90%E1%83%9A%E1%83%9B%E1%83%9C%E1%83%98%E1%83%A8%E1%83%95%E1%83%9C%E1%83%94%E1%83%9A%E1%83%9D%E1%83%95%E1%83%90%E1%83%9C%E1%83%98)',\n",
       " 'https://kg.wikipedia.org/wiki/Mboma_(nyoka)',\n",
       " 'https://la.wikipedia.org/wiki/Python_(discretiva)',\n",
       " 'https://lb.wikipedia.org/wiki/Python',\n",
       " 'https://hu.wikipedia.org/wiki/Python_(egy%C3%A9rtelm%C5%B1s%C3%ADt%C5%91_lap)',\n",
       " 'https://mr.wikipedia.org/wiki/%E0%A4%AA%E0%A4%BE%E0%A4%AF%E0%A4%A5%E0%A5%89%E0%A4%A8_(%E0%A4%86%E0%A4%9C%E0%A5%8D%E0%A4%9E%E0%A4%BE%E0%A4%B5%E0%A4%B2%E0%A5%80_%E0%A4%AD%E0%A4%BE%E0%A4%B7%E0%A4%BE)',\n",
       " 'https://nl.wikipedia.org/wiki/Python',\n",
       " 'https://ja.wikipedia.org/wiki/%E3%83%91%E3%82%A4%E3%82%BD%E3%83%B3',\n",
       " 'https://no.wikipedia.org/wiki/Pyton',\n",
       " 'https://pl.wikipedia.org/wiki/Pyton',\n",
       " 'https://pt.wikipedia.org/wiki/Python_(desambigua%C3%A7%C3%A3o)',\n",
       " 'https://ru.wikipedia.org/wiki/Python_(%D0%B7%D0%BD%D0%B0%D1%87%D0%B5%D0%BD%D0%B8%D1%8F)',\n",
       " 'https://sk.wikipedia.org/wiki/Python',\n",
       " 'https://sr.wikipedia.org/wiki/%D0%9F%D0%B8%D1%82%D0%BE%D0%BD_(%D0%B2%D0%B8%D1%88%D0%B5%D0%B7%D0%BD%D0%B0%D1%87%D0%BD%D0%B0_%D0%BE%D0%B4%D1%80%D0%B5%D0%B4%D0%BD%D0%B8%D1%86%D0%B0)',\n",
       " 'https://sh.wikipedia.org/wiki/Python',\n",
       " 'https://fi.wikipedia.org/wiki/Python',\n",
       " 'https://sv.wikipedia.org/wiki/Pyton',\n",
       " 'https://th.wikipedia.org/wiki/%E0%B9%84%E0%B8%9E%E0%B8%97%E0%B8%AD%E0%B8%99',\n",
       " 'https://tr.wikipedia.org/wiki/Python',\n",
       " 'https://uk.wikipedia.org/wiki/%D0%9F%D1%96%D1%84%D0%BE%D0%BD',\n",
       " 'https://ur.wikipedia.org/wiki/%D9%BE%D8%A7%D8%A6%DB%8C%D8%AA%DA%BE%D9%88%D9%86',\n",
       " 'https://vi.wikipedia.org/wiki/Python',\n",
       " 'https://zh.wikipedia.org/wiki/Python_(%E6%B6%88%E6%AD%A7%E4%B9%89)',\n",
       " 'https://www.wikidata.org/wiki/Special:EntityPage/Q747452#sitelinks-wikipedia',\n",
       " '//en.wikipedia.org/wiki/Wikipedia:Text_of_Creative_Commons_Attribution-ShareAlike_3.0_Unported_License',\n",
       " '//creativecommons.org/licenses/by-sa/3.0/',\n",
       " '//foundation.wikimedia.org/wiki/Terms_of_Use',\n",
       " '//foundation.wikimedia.org/wiki/Privacy_policy',\n",
       " '//www.wikimediafoundation.org/',\n",
       " 'https://foundation.wikimedia.org/wiki/Privacy_policy',\n",
       " '/wiki/Wikipedia:About',\n",
       " '/wiki/Wikipedia:General_disclaimer',\n",
       " '//en.wikipedia.org/wiki/Wikipedia:Contact_us',\n",
       " '//en.m.wikipedia.org/w/index.php?title=Python&mobileaction=toggle_view_mobile',\n",
       " 'https://www.mediawiki.org/wiki/Special:MyLanguage/How_to_contribute',\n",
       " 'https://stats.wikimedia.org/#/en.wikipedia.org',\n",
       " 'https://foundation.wikimedia.org/wiki/Cookie_statement',\n",
       " 'https://wikimediafoundation.org/',\n",
       " 'https://www.mediawiki.org/']"
      ]
     },
     "execution_count": 59,
     "metadata": {},
     "output_type": "execute_result"
    }
   ],
   "source": [
    "#your code\n",
    "html=requests.get(url).text\n",
    "soup = BeautifulSoup(html)\n",
    "links = [link.get('href') for link in soup.find_all('a')]\n",
    "links"
   ]
  },
  {
   "cell_type": "markdown",
   "metadata": {},
   "source": [
    "#### Number of Titles that have changed in the United States Code since its last release point "
   ]
  },
  {
   "cell_type": "code",
   "execution_count": 63,
   "metadata": {},
   "outputs": [],
   "source": [
    "# This is the url you will scrape in this exercise\n",
    "url = 'http://uscode.house.gov/download/download.shtml'"
   ]
  },
  {
   "cell_type": "code",
   "execution_count": 70,
   "metadata": {},
   "outputs": [
    {
     "name": "stdout",
     "output_type": "stream",
     "text": [
      "['Title 34 - Crime Control and Law Enforcement', 'Title 42 - The Public Health and Welfare', 'Title 50 - War and National Defense']\n"
     ]
    }
   ],
   "source": [
    "#your code\n",
    "html=requests.get(url).text\n",
    "soup = BeautifulSoup(html)\n",
    "titles = [title.text.strip() for title in soup.find_all(class_='usctitlechanged')]\n",
    "print(titles)"
   ]
  },
  {
   "cell_type": "markdown",
   "metadata": {},
   "source": [
    "#### A Python list with the top ten FBI's Most Wanted names "
   ]
  },
  {
   "cell_type": "code",
   "execution_count": 72,
   "metadata": {},
   "outputs": [],
   "source": [
    "# This is the url you will scrape in this exercise\n",
    "url = 'https://www.fbi.gov/wanted/topten'"
   ]
  },
  {
   "cell_type": "code",
   "execution_count": 73,
   "metadata": {},
   "outputs": [
    {
     "name": "stdout",
     "output_type": "stream",
     "text": [
      "['ARNOLDO JIMENEZ', 'JASON DEREK BROWN', 'YASER ABDEL SAID', 'ALEXIS FLORES', 'EUGENE PALMER', 'RAFAEL CARO-QUINTERO', 'ROBERT WILLIAM FISHER', 'BHADRESHKUMAR CHETANBHAI PATEL', 'ALEJANDRO ROSALES CASTILLO', 'SANTIAGO VILLALBA MEDEROS']\n"
     ]
    }
   ],
   "source": [
    "#your code \n",
    "res = requests.get(url)\n",
    "soup = BeautifulSoup(res.text)\n",
    "#print(soup)\n",
    "nombres= [' '.join(nombre.text.split()) for nombre in soup.select('.title')]\n",
    "print(nombres[1::])"
   ]
  },
  {
   "cell_type": "markdown",
   "metadata": {},
   "source": [
    "####  20 latest earthquakes info (date, time, latitude, longitude and region name) by the EMSC as a pandas dataframe"
   ]
  },
  {
   "cell_type": "code",
   "execution_count": 74,
   "metadata": {},
   "outputs": [],
   "source": [
    "# This is the url you will scrape in this exercise\n",
    "url = 'https://www.emsc-csem.org/Earthquake/'"
   ]
  },
  {
   "cell_type": "code",
   "execution_count": 75,
   "metadata": {},
   "outputs": [
    {
     "name": "stdout",
     "output_type": "stream",
     "text": [
      "['\\n', '\\n\\n\\n\\n\\n\\nCurrent time: 2020-09-10 01:02:27 UTC\\n', '\\n\\n\\xa0Member access\\n\\nName\\xa0\\n\\n\\nPwd\\n\\n\\n\\xa0', '\\n\\xa0Member access', '\\n', 'Name\\xa0', '', '', 'Pwd', '', '', '\\xa0', '', '\\xa0- Sorting by column is performed on the data of the current page.', 'Glossary', '', '', '', '', '', '12345678910\\x9b»', '', '', '', 'earthquake2020-09-10\\xa0\\xa0\\xa000:27:40.034min ago', '11.92\\xa0', 'N\\xa0\\xa0', '124.08\\xa0', 'E\\xa0\\xa0', '7', ' M', '3.9', '\\xa0LEYTE, PHILIPPINES', '2020-09-10 00:45', '', '', '', 'earthquake2020-09-10\\xa0\\xa0\\xa000:15:18.947min ago', '36.55\\xa0', 'N\\xa0\\xa0', '121.14\\xa0', 'W\\xa0\\xa0', '6', 'MD', '2.4', '\\xa0CENTRAL CALIFORNIA', '2020-09-10 00:17', '', '', '', 'earthquake2020-09-10\\xa0\\xa0\\xa000:13:02.649min ago', '41.11\\xa0', 'N\\xa0\\xa0', '117.38\\xa0', 'W\\xa0\\xa0', '27', 'ml', '2.4', '\\xa0NEVADA', '2020-09-10 01:00', '', ' ', '', '', '', '', 'earthquake2020-09-09\\xa0\\xa0\\xa023:57:36.91hr 04min ago', '36.55\\xa0', 'N\\xa0\\xa0', '121.14\\xa0', 'W\\xa0\\xa0', '6', 'Md', '2.5', '\\xa0CENTRAL CALIFORNIA', '2020-09-09 23:59', '', '', '', 'earthquake2020-09-09\\xa0\\xa0\\xa023:20:14.01hr 42min ago', '28.12\\xa0', 'N\\xa0\\xa0', '89.95\\xa0', 'E\\xa0\\xa0', '10', ' M', '3.1', '\\xa0WESTERN XIZANG', '2020-09-09 23:50', '', '', '', 'earthquake2020-09-09\\xa0\\xa0\\xa023:17:03.01hr 45min ago', '12.04\\xa0', 'S\\xa0\\xa0', '76.93\\xa0', 'W\\xa0\\xa0', '93', ' M', '4.5', '\\xa0NEAR COAST OF CENTRAL PERU', '2020-09-10 00:22', '', '', '', 'earthquake2020-09-09\\xa0\\xa0\\xa023:12:27.21hr 49min ago', '38.38\\xa0', 'N\\xa0\\xa0', '25.47\\xa0', 'E\\xa0\\xa0', '26', 'ML', '2.5', '\\xa0AEGEAN SEA', '2020-09-10 00:02', '', '', '', 'earthquake2020-09-09\\xa0\\xa0\\xa022:55:54.82hr 06min ago', '14.81\\xa0', 'S\\xa0\\xa0', '175.99\\xa0', 'W\\xa0\\xa0', '306', 'Mw', '5.2', '\\xa0SAMOA ISLANDS REGION', '2020-09-09 23:16', '', '', '', 'earthquake2020-09-09\\xa0\\xa0\\xa022:51:43.32hr 10min ago', '40.66\\xa0', 'N\\xa0\\xa0', '123.85\\xa0', 'W\\xa0\\xa0', '23', 'Md', '2.1', '\\xa0NORTHERN CALIFORNIA', '2020-09-09 22:53', '', '', '', 'earthquake2020-09-09\\xa0\\xa0\\xa022:46:02.02hr 16min ago', '17.09\\xa0', 'N\\xa0\\xa0', '95.06\\xa0', 'W\\xa0\\xa0', '123', ' M', '4.2', '\\xa0OAXACA, MEXICO', '2020-09-09 23:01', '', '', '', 'earthquake2020-09-09\\xa0\\xa0\\xa022:35:08.02hr 27min ago', '18.37\\xa0', 'N\\xa0\\xa0', '72.94\\xa0', 'W\\xa0\\xa0', '1', ' M', '3.1', '\\xa0HAITI REGION', '2020-09-09 22:45', '', '', '', 'earthquake2020-09-09\\xa0\\xa0\\xa022:29:13.02hr 33min ago', '28.06\\xa0', 'N\\xa0\\xa0', '13.98\\xa0', 'W\\xa0\\xa0', '33', 'ML', '2.2', '\\xa0CANARY ISLANDS, SPAIN REGION', '2020-09-09 22:41', '', '', '', 'earthquake2020-09-09\\xa0\\xa0\\xa022:20:48.02hr 41min ago', '8.88\\xa0', 'S\\xa0\\xa0', '112.56\\xa0', 'E\\xa0\\xa0', '28', ' M', '3.7', '\\xa0JAVA, INDONESIA', '2020-09-09 22:40', '', '', '', 'earthquake2020-09-09\\xa0\\xa0\\xa022:11:28.72hr 50min ago', '50.87\\xa0', 'N\\xa0\\xa0', '156.67\\xa0', 'E\\xa0\\xa0', '85', 'mb', '4.5', '\\xa0KURIL ISLANDS', '2020-09-09 23:28', '', '', '', 'earthquake2020-09-09\\xa0\\xa0\\xa022:10:39.82hr 51min ago', '39.35\\xa0', 'N\\xa0\\xa0', '41.04\\xa0', 'E\\xa0\\xa0', '8', 'ML', '2.9', '\\xa0EASTERN TURKEY', '2020-09-09 22:16', '', '', '', 'earthquake2020-09-09\\xa0\\xa0\\xa021:51:58.93hr 10min ago', '38.23\\xa0', 'N\\xa0\\xa0', '121.42\\xa0', 'W\\xa0\\xa0', '2', 'MD', '2.0', '\\xa0NORTHERN CALIFORNIA', '2020-09-09 21:53', '', '', '', 'earthquake2020-09-09\\xa0\\xa0\\xa021:47:07.93hr 15min ago', '23.33\\xa0', 'S\\xa0\\xa0', '66.97\\xa0', 'W\\xa0\\xa0', '227', 'mb', '4.3', '\\xa0JUJUY, ARGENTINA', '2020-09-09 22:17', '', '', '', 'earthquake2020-09-09\\xa0\\xa0\\xa021:30:16.43hr 32min ago', '47.84\\xa0', 'N\\xa0\\xa0', '7.44\\xa0', 'E\\xa0\\xa0', '5', 'ML', '1.4', '\\xa0FRANCE-GERMANY BORDER REGION', '2020-09-09 21:34', '', '', '', 'earthquake2020-09-09\\xa0\\xa0\\xa021:20:30.03hr 41min ago', '11.16\\xa0', 'N\\xa0\\xa0', '85.64\\xa0', 'W\\xa0\\xa0', '189', ' M', '3.6', '\\xa0NICARAGUA', '2020-09-09 22:20', '', '', '', 'earthquake2020-09-09\\xa0\\xa0\\xa021:05:55.03hr 56min ago', '2.75\\xa0', 'N\\xa0\\xa0', '126.39\\xa0', 'E\\xa0\\xa0', '1', ' M', '3.5', '\\xa0MOLUCCA SEA', '2020-09-09 21:35', '', '', '', 'earthquake2020-09-09\\xa0\\xa0\\xa021:00:31.04hr 01min ago', '36.52\\xa0', 'N\\xa0\\xa0', '11.42\\xa0', 'W\\xa0\\xa0', '30', 'ML', '2.0', '\\xa0AZORES-CAPE ST. VINCENT RIDGE', '2020-09-09 21:13', '', '', '', 'earthquake2020-09-09\\xa0\\xa0\\xa020:49:43.04hr 12min ago', '27.39\\xa0', 'N\\xa0\\xa0', '88.81\\xa0', 'E\\xa0\\xa0', '10', ' M', '2.8', '\\xa0SIKKIM, INDIA', '2020-09-09 21:00', '', '', '', 'earthquake2020-09-09\\xa0\\xa0\\xa020:44:20.04hr 18min ago', '0.37\\xa0', 'N\\xa0\\xa0', '123.99\\xa0', 'E\\xa0\\xa0', '10', ' M', '2.6', '\\xa0MINAHASA, SULAWESI, INDONESIA', '2020-09-09 21:20', '', '', '', 'earthquake2020-09-09\\xa0\\xa0\\xa020:37:25.74hr 25min ago', '62.35\\xa0', 'S\\xa0\\xa0', '58.48\\xa0', 'W\\xa0\\xa0', '5', 'Mw', '5.0', '\\xa0SOUTH SHETLAND ISLANDS', '2020-09-09 22:03', '', '', '', 'earthquake2020-09-09\\xa0\\xa0\\xa020:36:19.14hr 26min ago', '39.33\\xa0', 'N\\xa0\\xa0', '41.04\\xa0', 'E\\xa0\\xa0', '7', 'ML', '2.3', '\\xa0EASTERN TURKEY', '2020-09-09 20:53', '', '', '', 'earthquake2020-09-09\\xa0\\xa0\\xa020:22:18.54hr 40min ago', '37.84\\xa0', 'N\\xa0\\xa0', '12.82\\xa0', 'E\\xa0\\xa0', '10', 'ML', '2.1', '\\xa0SICILY, ITALY', '2020-09-09 20:36', '', '', '', 'earthquake2020-09-09\\xa0\\xa0\\xa020:06:19.04hr 56min ago', '21.87\\xa0', 'S\\xa0\\xa0', '69.03\\xa0', 'W\\xa0\\xa0', '97', 'ML', '3.1', '\\xa0ANTOFAGASTA, CHILE', '2020-09-09 20:21', '', '', '', 'earthquake2020-09-09\\xa0\\xa0\\xa019:53:12.35hr 09min ago', '38.91\\xa0', 'N\\xa0\\xa0', '43.46\\xa0', 'E\\xa0\\xa0', '7', 'ML', '2.2', '\\xa0EASTERN TURKEY', '2020-09-09 20:29', '', '', '', 'earthquake2020-09-09\\xa0\\xa0\\xa019:46:57.15hr 15min ago', '40.71\\xa0', 'N\\xa0\\xa0', '27.43\\xa0', 'E\\xa0\\xa0', '10', 'ML', '2.8', '\\xa0WESTERN TURKEY', '2020-09-09 19:58', '', '', '', 'earthquake2020-09-09\\xa0\\xa0\\xa019:41:56.05hr 20min ago', '21.42\\xa0', 'S\\xa0\\xa0', '69.02\\xa0', 'W\\xa0\\xa0', '98', 'ML', '2.7', '\\xa0ANTOFAGASTA, CHILE', '2020-09-09 19:56', '6', '', 'III', 'earthquake2020-09-09\\xa0\\xa0\\xa019:32:32.95hr 29min ago', '39.33\\xa0', 'N\\xa0\\xa0', '41.04\\xa0', 'E\\xa0\\xa0', '7', 'Mw', '4.1', '\\xa0EASTERN TURKEY', '2020-09-09 19:37', '', '', '', 'earthquake2020-09-09\\xa0\\xa0\\xa019:23:07.15hr 39min ago', '39.34\\xa0', 'N\\xa0\\xa0', '41.00\\xa0', 'E\\xa0\\xa0', '2', 'ML', '3.3', '\\xa0EASTERN TURKEY', '2020-09-09 19:34', '', '', '', 'earthquake2020-09-09\\xa0\\xa0\\xa019:21:44.15hr 40min ago', '17.94\\xa0', 'N\\xa0\\xa0', '66.91\\xa0', 'W\\xa0\\xa0', '12', 'Md', '2.6', '\\xa0PUERTO RICO REGION', '2020-09-09 22:41', '', '', '', 'earthquake2020-09-09\\xa0\\xa0\\xa019:15:15.05hr 47min ago', '44.47\\xa0', 'N\\xa0\\xa0', '115.19\\xa0', 'W\\xa0\\xa0', '3', 'Ml', '2.1', '\\xa0SOUTHERN IDAHO', '2020-09-09 21:27', '', '', '', 'earthquake2020-09-09\\xa0\\xa0\\xa019:13:05.75hr 49min ago', '19.23\\xa0', 'N\\xa0\\xa0', '155.42\\xa0', 'W\\xa0\\xa0', '33', 'Ml', '2.0', '\\xa0ISLAND OF HAWAII, HAWAII', '2020-09-09 19:18', '', '', 'F', 'earthquake2020-09-09\\xa0\\xa0\\xa019:12:26.05hr 50min ago', '50.09\\xa0', 'N\\xa0\\xa0', '18.43\\xa0', 'E\\xa0\\xa0', '2', 'ML', '2.5', '\\xa0POLAND', '2020-09-09 19:18', '', '', '', 'earthquake2020-09-09\\xa0\\xa0\\xa019:04:03.05hr 58min ago', '4.02\\xa0', 'N\\xa0\\xa0', '126.76\\xa0', 'E\\xa0\\xa0', '200', ' M', '3.7', '\\xa0KEPULAUAN TALAUD, INDONESIA', '2020-09-09 19:35', '', '', 'F', 'earthquake2020-09-09\\xa0\\xa0\\xa018:58:43.66hr 03min ago', '40.50\\xa0', 'N\\xa0\\xa0', '20.07\\xa0', 'E\\xa0\\xa0', '1', 'ML', '3.0', '\\xa0ALBANIA', '2020-09-09 19:11', '', '', '', 'earthquake2020-09-09\\xa0\\xa0\\xa018:46:54.06hr 15min ago', '3.74\\xa0', 'N\\xa0\\xa0', '127.21\\xa0', 'E\\xa0\\xa0', '7', ' M', '4.3', '\\xa0KEPULAUAN TALAUD, INDONESIA', '2020-09-09 19:12', '', '', '', 'earthquake2020-09-09\\xa0\\xa0\\xa018:44:16.06hr 18min ago', '2.65\\xa0', 'S\\xa0\\xa0', '101.09\\xa0', 'E\\xa0\\xa0', '35', ' M', '4.1', '\\xa0SOUTHERN SUMATRA, INDONESIA', '2020-09-09 18:57', '', '', '', 'earthquake2020-09-09\\xa0\\xa0\\xa018:31:01.06hr 31min ago', '0.11\\xa0', 'N\\xa0\\xa0', '123.61\\xa0', 'E\\xa0\\xa0', '11', ' M', '3.1', '\\xa0MINAHASA, SULAWESI, INDONESIA', '2020-09-09 18:57', '', '', '', 'earthquake2020-09-09\\xa0\\xa0\\xa018:23:45.06hr 38min ago', '35.94\\xa0', 'N\\xa0\\xa0', '115.08\\xa0', 'W\\xa0\\xa0', '6', 'ml', '2.3', '\\xa0NEVADA', '2020-09-09 18:55', '', '', '', 'earthquake2020-09-09\\xa0\\xa0\\xa018:20:01.06hr 42min ago', '28.60\\xa0', 'S\\xa0\\xa0', '68.41\\xa0', 'W\\xa0\\xa0', '137', ' M', '3.6', '\\xa0LA RIOJA, ARGENTINA', '2020-09-09 18:26', '1', '', 'III', 'earthquake2020-09-09\\xa0\\xa0\\xa018:17:05.96hr 45min ago', '12.01\\xa0', 'S\\xa0\\xa0', '76.53\\xa0', 'W\\xa0\\xa0', '71', 'mb', '3.8', '\\xa0NEAR COAST OF CENTRAL PERU', '2020-09-09 22:20', '', '', '', 'earthquake2020-09-09\\xa0\\xa0\\xa018:12:36.06hr 49min ago', '16.60\\xa0', 'N\\xa0\\xa0', '93.75\\xa0', 'W\\xa0\\xa0', '160', ' M', '4.1', '\\xa0CHIAPAS, MEXICO', '2020-09-09 18:30', '', '', '', 'earthquake2020-09-09\\xa0\\xa0\\xa018:09:50.66hr 52min ago', '19.24\\xa0', 'N\\xa0\\xa0', '155.41\\xa0', 'W\\xa0\\xa0', '34', 'Md', '2.3', '\\xa0ISLAND OF HAWAII, HAWAII', '2020-09-09 18:13', '', '', '', 'earthquake2020-09-09\\xa0\\xa0\\xa018:01:26.67hr 01min ago', '46.80\\xa0', 'N\\xa0\\xa0', '6.99\\xa0', 'E\\xa0\\xa0', '0', 'ML', '1.6', '\\xa0SWITZERLAND', '2020-09-09 18:06', '', '', '', 'earthquake2020-09-09\\xa0\\xa0\\xa017:34:33.27hr 27min ago', '32.66\\xa0', 'S\\xa0\\xa0', '179.51\\xa0', 'E\\xa0\\xa0', '226', 'mb', '4.5', '\\xa0SOUTH OF KERMADEC ISLANDS', '2020-09-09 17:45', '', '', '', 'earthquake2020-09-09\\xa0\\xa0\\xa017:09:43.17hr 52min ago', '47.78\\xa0', 'N\\xa0\\xa0', '9.32\\xa0', 'E\\xa0\\xa0', '13', 'ML', '1.1', '\\xa0GERMANY', '2020-09-09 20:25', '', '', '', 'earthquake2020-09-09\\xa0\\xa0\\xa016:49:26.68hr 13min ago', '38.18\\xa0', 'N\\xa0\\xa0', '117.88\\xa0', 'W\\xa0\\xa0', '10', 'ml', '2.3', '\\xa0NEVADA', '2020-09-09 20:02', '', '12345678910\\x9b»', '']\n"
     ]
    }
   ],
   "source": [
    "\n",
    "#your code\n",
    "res = requests.get(url)\n",
    "soup = BeautifulSoup(res.text)\n",
    "eartquaker = [x.text for x in soup.select('td')]\n",
    "print(eartquaker)"
   ]
  },
  {
   "cell_type": "markdown",
   "metadata": {},
   "source": [
    "#### Display the date, days, title, city, country of next 25 hackathon events as a Pandas dataframe table"
   ]
  },
  {
   "cell_type": "code",
   "execution_count": null,
   "metadata": {},
   "outputs": [],
   "source": [
    "# This is the url you will scrape in this exercise\n",
    "url ='https://hackevents.co/hackathons'"
   ]
  },
  {
   "cell_type": "code",
   "execution_count": null,
   "metadata": {},
   "outputs": [],
   "source": [
    "#your code"
   ]
  },
  {
   "cell_type": "markdown",
   "metadata": {},
   "source": [
    "#### Count number of tweets by a given Twitter account."
   ]
  },
  {
   "cell_type": "markdown",
   "metadata": {},
   "source": [
    "You will need to include a ***try/except block*** for account names not found. \n",
    "<br>***Hint:*** the program should count the number of tweets for any provided account"
   ]
  },
  {
   "cell_type": "code",
   "execution_count": null,
   "metadata": {},
   "outputs": [],
   "source": [
    "# This is the url you will scrape in this exercise \n",
    "# You will need to add the account credentials to this url\n",
    "url = 'https://twitter.com/'"
   ]
  },
  {
   "cell_type": "code",
   "execution_count": null,
   "metadata": {},
   "outputs": [],
   "source": [
    "#your code"
   ]
  },
  {
   "cell_type": "markdown",
   "metadata": {},
   "source": [
    "#### Number of followers of a given twitter account"
   ]
  },
  {
   "cell_type": "markdown",
   "metadata": {},
   "source": [
    "You will need to include a ***try/except block*** in case account/s name not found. \n",
    "<br>***Hint:*** the program should count the followers for any provided account"
   ]
  },
  {
   "cell_type": "code",
   "execution_count": null,
   "metadata": {},
   "outputs": [],
   "source": [
    "# This is the url you will scrape in this exercise \n",
    "# You will need to add the account credentials to this url\n",
    "url = 'https://twitter.com/'"
   ]
  },
  {
   "cell_type": "code",
   "execution_count": null,
   "metadata": {},
   "outputs": [],
   "source": [
    "#your code"
   ]
  },
  {
   "cell_type": "markdown",
   "metadata": {},
   "source": [
    "#### List all language names and number of related articles in the order they appear in wikipedia.org"
   ]
  },
  {
   "cell_type": "code",
   "execution_count": null,
   "metadata": {},
   "outputs": [],
   "source": [
    "# This is the url you will scrape in this exercise\n",
    "url = 'https://www.wikipedia.org/'"
   ]
  },
  {
   "cell_type": "code",
   "execution_count": null,
   "metadata": {},
   "outputs": [],
   "source": [
    "#your code"
   ]
  },
  {
   "cell_type": "markdown",
   "metadata": {},
   "source": [
    "#### A list with the different kind of datasets available in data.gov.uk "
   ]
  },
  {
   "cell_type": "code",
   "execution_count": null,
   "metadata": {},
   "outputs": [],
   "source": [
    "# This is the url you will scrape in this exercise\n",
    "url = 'https://data.gov.uk/'"
   ]
  },
  {
   "cell_type": "code",
   "execution_count": null,
   "metadata": {},
   "outputs": [],
   "source": [
    "#your code "
   ]
  },
  {
   "cell_type": "markdown",
   "metadata": {},
   "source": [
    "#### Top 10 languages by number of native speakers stored in a Pandas Dataframe"
   ]
  },
  {
   "cell_type": "code",
   "execution_count": null,
   "metadata": {},
   "outputs": [],
   "source": [
    "# This is the url you will scrape in this exercise\n",
    "url = 'https://en.wikipedia.org/wiki/List_of_languages_by_number_of_native_speakers'"
   ]
  },
  {
   "cell_type": "code",
   "execution_count": null,
   "metadata": {},
   "outputs": [],
   "source": [
    "#your code"
   ]
  },
  {
   "cell_type": "markdown",
   "metadata": {},
   "source": [
    "### BONUS QUESTIONS"
   ]
  },
  {
   "cell_type": "markdown",
   "metadata": {},
   "source": [
    "#### Scrape a certain number of tweets of a given Twitter account."
   ]
  },
  {
   "cell_type": "code",
   "execution_count": null,
   "metadata": {},
   "outputs": [],
   "source": [
    "# This is the url you will scrape in this exercise \n",
    "# You will need to add the account credentials to this url\n",
    "url = 'https://twitter.com/'"
   ]
  },
  {
   "cell_type": "code",
   "execution_count": null,
   "metadata": {},
   "outputs": [],
   "source": [
    "# your code"
   ]
  },
  {
   "cell_type": "markdown",
   "metadata": {},
   "source": [
    "#### IMDB's Top 250 data (movie name, Initial release, director name and stars) as a pandas dataframe"
   ]
  },
  {
   "cell_type": "code",
   "execution_count": null,
   "metadata": {},
   "outputs": [],
   "source": [
    "# This is the url you will scrape in this exercise \n",
    "url = 'https://www.imdb.com/chart/top'"
   ]
  },
  {
   "cell_type": "code",
   "execution_count": null,
   "metadata": {},
   "outputs": [],
   "source": [
    "# your code"
   ]
  },
  {
   "cell_type": "markdown",
   "metadata": {},
   "source": [
    "#### Movie name, year and a brief summary of the top 10 random movies (IMDB) as a pandas dataframe."
   ]
  },
  {
   "cell_type": "code",
   "execution_count": null,
   "metadata": {},
   "outputs": [],
   "source": [
    "#This is the url you will scrape in this exercise\n",
    "url = 'http://www.imdb.com/chart/top'"
   ]
  },
  {
   "cell_type": "code",
   "execution_count": null,
   "metadata": {},
   "outputs": [],
   "source": [
    "#your code"
   ]
  },
  {
   "cell_type": "markdown",
   "metadata": {},
   "source": [
    "#### Find the live weather report (temperature, wind speed, description and weather) of a given city."
   ]
  },
  {
   "cell_type": "code",
   "execution_count": null,
   "metadata": {},
   "outputs": [],
   "source": [
    "#https://openweathermap.org/current\n",
    "city = city=input('Enter the city:')\n",
    "url = 'http://api.openweathermap.org/data/2.5/weather?'+'q='+city+'&APPID=b35975e18dc93725acb092f7272cc6b8&units=metric'"
   ]
  },
  {
   "cell_type": "code",
   "execution_count": null,
   "metadata": {},
   "outputs": [],
   "source": [
    "# your code"
   ]
  },
  {
   "cell_type": "markdown",
   "metadata": {},
   "source": [
    "#### Book name,price and stock availability as a pandas dataframe."
   ]
  },
  {
   "cell_type": "code",
   "execution_count": null,
   "metadata": {},
   "outputs": [],
   "source": [
    "# This is the url you will scrape in this exercise. \n",
    "# It is a fictional bookstore created to be scraped. \n",
    "url = 'http://books.toscrape.com/'"
   ]
  },
  {
   "cell_type": "code",
   "execution_count": null,
   "metadata": {},
   "outputs": [],
   "source": [
    "#your code"
   ]
  },
  {
   "cell_type": "code",
   "execution_count": null,
   "metadata": {},
   "outputs": [],
   "source": []
  },
  {
   "cell_type": "markdown",
   "metadata": {},
   "source": [
    "APUNTES---NO CORREGIR A PARTIR DE AQUI PLEASE :))))"
   ]
  },
  {
   "cell_type": "code",
   "execution_count": null,
   "metadata": {},
   "outputs": [],
   "source": [
    "-select: Se utiliza mas para selectores css multiples\n",
    "-select_one : seleciona el primer css que encuentrra\n",
    "-findall: selecciona todas as etiquetas que encuentra\n",
    "-find: selecciona una etiqueta\n",
    "\n"
   ]
  },
  {
   "cell_type": "code",
   "execution_count": null,
   "metadata": {},
   "outputs": [],
   "source": [
    "-seleccionar por etiqueta y atributo :\n",
    "    \n",
    "    data = \"\"\"\n",
    "<ul>\n",
    "    <li class=\"item\">item1</li>\n",
    "    <li class=\"item\">item2</li>\n",
    "    <li class=\"item\">item3</li>\n",
    "</ul>\n",
    "\"\"\"\n",
    "\n",
    "for item in soup.select(\"li.item\"):\n",
    "    print(item.get_text())"
   ]
  },
  {
   "cell_type": "code",
   "execution_count": null,
   "metadata": {},
   "outputs": [],
   "source": [
    "item = soup.select_one(\"h1\").get_text(strip=True)"
   ]
  }
 ],
 "metadata": {
  "kernelspec": {
   "display_name": "Python 3",
   "language": "python",
   "name": "python3"
  },
  "language_info": {
   "codemirror_mode": {
    "name": "ipython",
    "version": 3
   },
   "file_extension": ".py",
   "mimetype": "text/x-python",
   "name": "python",
   "nbconvert_exporter": "python",
   "pygments_lexer": "ipython3",
   "version": "3.6.9"
  }
 },
 "nbformat": 4,
 "nbformat_minor": 2
}
