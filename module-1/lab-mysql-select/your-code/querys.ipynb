{
 "cells": [
  {
   "cell_type": "code",
   "execution_count": null,
   "metadata": {},
   "outputs": [],
   "source": [
    "/* Challegen 1 */\n",
    "\n",
    "SELECT  aut.au_id AS AUTHORID,aut.au_lname AS \"LAST NAME\",aut.au_fname AS \"FIRST NAME\",ti.title AS TITLE,pu.pub_name AS PUBLISHER FROM authors AS aut\n",
    " LEFT JOIN titleauthor AS ta ON aut.au_id=ta.au_id\n",
    " LEFT JOIN titles AS ti ON ta.title_id=ti.title_id\n",
    " LEFT JOIN publishers AS pu ON ti.pub_id=pu.pub_id;\n",
    "\n",
    "/* Challegen 2 */\n",
    "\n",
    "SELECT  aut.au_id AS AUTHORID,aut.au_lname AS \"LAST NAME\",aut.au_fname AS \"FIRST NAME\",pu.pub_name AS PUBLISHER ,COUNT(ti.title) AS TITLECOUNT\n",
    " FROM authors AS aut\n",
    " LEFT JOIN titleauthor AS ta ON aut.au_id=ta.au_id\n",
    " LEFT JOIN titles AS ti ON ta.title_id=ti.title_id\n",
    " LEFT JOIN publishers AS pu ON ti.pub_id=pu.pub_id\n",
    " GROUP BY AUTHORID,PUBLISHER;\n",
    " \n",
    " \n",
    " /* Challegen 3 */\n",
    "   \n",
    "  SELECT AUTHORID , LAST_NAME, FIRST_NAME, SUM(N_VENTAS) S_NVENTAS FROM (\n",
    " SELECT  aut.au_id AS AUTHORID,aut.au_lname AS \"LAST_NAME\",aut.au_fname AS \"FIRST_NAME\", \n",
    " ti.advance AS \"ADELANTO\" , ti.royalty AS PORCENTAJEROYAL,TI.ytd_sales AS N_VENTAS ,ta.au_ord AS N_DEAUTORES\n",
    " FROM authors AS aut\n",
    "   LEFT  JOIN titleauthor AS ta ON aut.au_id=ta.au_id\n",
    "  LEFT  JOIN titles AS ti ON ta.title_id=ti.title_id\n",
    "  LEFT JOIN publishers AS pu ON ti.pub_id=pu.pub_id) AS R\n",
    "  GROUP BY AUTHORID\n",
    "  ORDER BY S_NVENTAS DESC  LIMIT 3;\n",
    " \n",
    " \n",
    "  /* Challegen 4 */\n",
    " \n",
    " SELECT AUTHORID , LAST_NAME, FIRST_NAME, SUM(N_VENTAS) S_NVENTAS FROM (\n",
    " SELECT  aut.au_id AS AUTHORID,aut.au_lname AS \"LAST_NAME\",aut.au_fname AS \"FIRST_NAME\", \n",
    " ti.advance AS \"ADELANTO\" , ti.royalty AS PORCENTAJEROYAL,TI.ytd_sales AS N_VENTAS ,ta.au_ord AS N_DEAUTORES\n",
    " FROM authors AS aut\n",
    "   LEFT  JOIN titleauthor AS ta ON aut.au_id=ta.au_id\n",
    "  LEFT  JOIN titles AS ti ON ta.title_id=ti.title_id\n",
    "  LEFT JOIN publishers AS pu ON ti.pub_id=pu.pub_id) AS R\n",
    "  GROUP BY AUTHORID\n",
    "  ORDER BY S_NVENTAS DESC  ;"
   ]
  }
 ],
 "metadata": {
  "kernelspec": {
   "display_name": "Python 3",
   "language": "python",
   "name": "python3"
  },
  "language_info": {
   "codemirror_mode": {
    "name": "ipython",
    "version": 3
   },
   "file_extension": ".py",
   "mimetype": "text/x-python",
   "name": "python",
   "nbconvert_exporter": "python",
   "pygments_lexer": "ipython3",
   "version": "3.6.9"
  }
 },
 "nbformat": 4,
 "nbformat_minor": 4
}
