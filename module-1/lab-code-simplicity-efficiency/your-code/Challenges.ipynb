{
 "cells": [
  {
   "cell_type": "code",
   "execution_count": null,
   "metadata": {},
   "outputs": [],
   "source": [
    "#CHALLENGE 1"
   ]
  },
  {
   "cell_type": "code",
   "execution_count": 11,
   "metadata": {},
   "outputs": [],
   "source": [
    "dict_number = {'zero':0, 'one':1, 'two':2, 'three':3, 'four':4, 'five':5}\n",
    "dict2_number = {0:'zero',1:'one',2:'two',3:'three',4:'four',5:'five',6:'six',7:'seven',8:'eight',9:'nine', 10: 'ten'}\n",
    "\n",
    "\n",
    "\n",
    "def getresult(a,b,c):\n",
    "    if a not in dict_number or c not in dict_number:\n",
    "        return \"I am not able to answer this question. Check your input.\"   \n",
    "    if b == 'plus':  \n",
    "        result = dict_number[a] + dict_number[c]\n",
    "        return f\"{a} plus {c} equals {dict2_number[result]}\"\n",
    "        print(dict2_number[abs(result)])\n",
    "        \n",
    "    else:\n",
    "        result = dict_number[a] - dict_number[c]\n",
    "        return f\"{a} minus {c} equals negative {dict2_number[abs(result)]}\" if a > c else f\"{a} minus {c} equals {dict2_number[result]}\"\n",
    "        print(result)"
   ]
  },
  {
   "cell_type": "code",
   "execution_count": null,
   "metadata": {},
   "outputs": [],
   "source": [
    "#CHALLENGE 2"
   ]
  },
  {
   "cell_type": "code",
   "execution_count": null,
   "metadata": {},
   "outputs": [],
   "source": [
    "import random\n",
    "import string\n",
    "\n",
    "a = int(input('Enter minimum string length: '))\n",
    "b = int(input('Enter maximum string length: '))\n",
    "n = int(input('How many random strings to generate? '))\n",
    "every_digit = string.ascii_letters + string.digits\n",
    "\n",
    "def createPassword():\n",
    "    if a == b:\n",
    "        return [''.join([random.choice(every_digit) for _ in range(a)]) for _ in range(n)]\n",
    "    elif a < b:\n",
    "        return [''.join([random.choice(every_digit) for _ in range(random.choice(range(a, b)))]) for _ in range(n)]\n",
    "    else:\n",
    "        return 'Incorrect min and max string lengths. Try again.'\n",
    "\n",
    "print(createPassword())"
   ]
  },
  {
   "cell_type": "code",
   "execution_count": null,
   "metadata": {},
   "outputs": [],
   "source": [
    "#CHALLENGE 3"
   ]
  },
  {
   "cell_type": "code",
   "execution_count": null,
   "metadata": {},
   "outputs": [],
   "source": [
    "def my_function(X):\n",
    "    solutions = [[x,y,z] for x in range(5, X) for y in range(4, X) for z in range(3, X) if (x*x==y*y+z*z)]\n",
    "    if solutions:\n",
    "        return (max(max(solutions)))\n",
    "    else: \n",
    "        return 0\n",
    "\n",
    "X = input(\"What is the maximal length of the triangle side? Enter a number: \")\n",
    "\n",
    "print(\"The longest side possible is \" + str(my_function(int(X))))\n"
   ]
  }
 ],
 "metadata": {
  "kernelspec": {
   "display_name": "Python 3",
   "language": "python",
   "name": "python3"
  },
  "language_info": {
   "codemirror_mode": {
    "name": "ipython",
    "version": 3
   },
   "file_extension": ".py",
   "mimetype": "text/x-python",
   "name": "python",
   "nbconvert_exporter": "python",
   "pygments_lexer": "ipython3",
   "version": "3.6.9"
  }
 },
 "nbformat": 4,
 "nbformat_minor": 4
}
